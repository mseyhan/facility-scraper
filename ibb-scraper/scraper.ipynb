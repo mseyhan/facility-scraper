{
 "cells": [
  {
   "cell_type": "code",
   "execution_count": 1,
   "metadata": {},
   "outputs": [],
   "source": [
    "from selenium.webdriver.common.keys import Keys\n",
    "from selenium.webdriver.common.by import By\n",
    "import undetected_chromedriver as uc\n",
    "from selenium.webdriver.support.ui import Select\n",
    "from selenium.webdriver.support.ui import WebDriverWait\n",
    "from selenium.webdriver.support import expected_conditions as EC\n",
    "from selenium.webdriver.common.alert import Alert\n",
    "from time import sleep\n",
    "import pickle\n",
    "import pandas as pd\n",
    "from datetime import date\n",
    "from datetime import datetime\n",
    "import datetime"
   ]
  },
  {
   "cell_type": "code",
   "execution_count": 2,
   "metadata": {},
   "outputs": [
    {
     "name": "stdout",
     "output_type": "stream",
     "text": [
      "TC: 27754977334\n",
      "Password: mrtsyhn123\n",
      "Link: https://online.spor.istanbul/uyegiris\n",
      "Timeslot: 08:00 - 09:00\n",
      "For date: 15.02.2024\n"
     ]
    }
   ],
   "source": [
    "import json\n",
    "\n",
    "# Define the path to your config file\n",
    "config_file_path = 'data/config.json'\n",
    "\n",
    "# Function to read the config file and return the tc and password\n",
    "def read_config(file_path):\n",
    "    try:\n",
    "        # Open the config file\n",
    "        with open(file_path, 'r') as file:\n",
    "            # Parse the JSON data\n",
    "            config = json.load(file)\n",
    "        \n",
    "        # Extract the tc and password values\n",
    "        tc = config.get('tc', 'default_tc_if_not_found')\n",
    "        password = config.get('password', 'default_password_if_not_found')\n",
    "        link = config.get('link', 'default_link_if_not_found')\n",
    "        timeslot = config.get('timeslot', 'default_timeslot_if_not_found')\n",
    "        \n",
    "        return tc, password, link, timeslot\n",
    "    except FileNotFoundError:\n",
    "        print(f\"Error: The file at {file_path} was not found.\")\n",
    "        return None, None\n",
    "    except json.JSONDecodeError:\n",
    "        print(\"Error: There was an issue decoding the JSON file.\")\n",
    "        return None, None\n",
    "    except Exception as e:\n",
    "        print(f\"An unexpected error occurred: {e}\")\n",
    "        return None, None\n",
    "\n",
    "today_plus_3 = date.today() + datetime.timedelta(days=2)\n",
    "today_plus_3 = today_plus_3.strftime(\"%d.%m.%Y\")\n",
    "\n",
    "# Use the function and print the results\n",
    "tc, password, link, timeslot = read_config(config_file_path)\n",
    "if tc and password:\n",
    "    print(f\"TC: {tc}\")\n",
    "    print(f\"Password: {password}\")\n",
    "    print(f\"Link: {link}\")\n",
    "    print(f\"Timeslot: {timeslot}\")\n",
    "    print(f\"For date: {today_plus_3}\")"
   ]
  },
  {
   "cell_type": "code",
   "execution_count": 3,
   "metadata": {},
   "outputs": [
    {
     "name": "stdout",
     "output_type": "stream",
     "text": [
      "siteye girdi.\n",
      "credential'lar girildi.\n"
     ]
    }
   ],
   "source": [
    "# driver execution and rules for better performance\n",
    "chromeOptions = uc.ChromeOptions()\n",
    "chromeOptions.add_argument('--blink-settings=imagesEnabled=false')\n",
    "driver = uc.Chrome(options=chromeOptions)\n",
    "\n",
    "driver.get(link) # siteye giriş\n",
    "print(\"siteye girdi.\")\n",
    "\n",
    "\n",
    "# credential'ları gir\n",
    "tcelem = driver.find_element(By.XPATH, \"//*[@id='txtTCPasaport']\").send_keys(tc)\n",
    "passelem = driver.find_element(By.XPATH, \"//*[@id='txtSifre']\").send_keys(password)\n",
    "benihatir = driver.find_element(By.XPATH, \"//*[@id='cboxBeniHatirla']\").click()\n",
    "loginbutt = driver.find_element(By.XPATH, \"//*[@id='btnGirisYap']\").click()\n",
    "\n",
    "print(\"credential'lar girildi.\")\n",
    "\n",
    "#CLICK ANYWHERE\n",
    "# JavaScript to calculate the middle of the viewport and click\n",
    "js_script = \"\"\"\n",
    "// Calculate middle of the viewport\n",
    "const x = window.innerWidth / 2;\n",
    "const y = window.innerHeight / 2;\n",
    "\n",
    "// Create a mouse click event\n",
    "const clickEvent = new MouseEvent('click', {\n",
    "    'view': window,\n",
    "    'bubbles': true,\n",
    "    'cancelable': true,\n",
    "    'clientX': x,\n",
    "    'clientY': y\n",
    "});\n",
    "\n",
    "// Dispatch the event on the element at the calculated position\n",
    "document.elementFromPoint(x, y).dispatchEvent(clickEvent);\n",
    "\"\"\"\n",
    "\n",
    "# Execute the JavaScript\n",
    "driver.execute_script(js_script)"
   ]
  },
  {
   "cell_type": "code",
   "execution_count": 4,
   "metadata": {},
   "outputs": [],
   "source": [
    "# kiralama hizmetleri kısmına tıklar\n",
    "kiralamahizm = '//*[@id=\"form1\"]/div[3]/div[2]/div/div/ul/li[3]/a'\n",
    "driver.find_element(By.XPATH, kiralamahizm).click()\n",
    "\n",
    "\n",
    "# BRANŞ seç\n",
    "bransdropdown = driver.find_element(By.ID, \"ddlBransFiltre\")\n",
    "selectbrans = Select(bransdropdown)\n",
    "selectbrans.select_by_visible_text(\"TENİS\")\n",
    "sleep(1)\n",
    "\n",
    "# tesis seç\n",
    "tesisdropdown = driver.find_element(By.ID, \"ddlTesisFiltre\")\n",
    "selecttesis = Select(tesisdropdown)\n",
    "selecttesis.select_by_visible_text(\"MALTEPE SAHİL SPOR TESİSİ\")\n",
    "sleep(1)\n",
    "\n",
    "# salon seç\n",
    "salondd = driver.find_element(By.ID, \"ddlSalonFiltre\")\n",
    "selectsalon = Select(salondd)\n",
    "selectsalon.select_by_visible_text(\"KAPALI TENIS KORTU 3\")"
   ]
  },
  {
   "cell_type": "code",
   "execution_count": 5,
   "metadata": {},
   "outputs": [
    {
     "name": "stdout",
     "output_type": "stream",
     "text": [
      "15.02.2024\n"
     ]
    }
   ],
   "source": [
    "print(str(today_plus_3))"
   ]
  },
  {
   "cell_type": "code",
   "execution_count": 7,
   "metadata": {},
   "outputs": [
    {
     "name": "stdout",
     "output_type": "stream",
     "text": [
      "Found the target time slot container.\n",
      "Clicked the 'Rezervasyon' button.\n"
     ]
    }
   ],
   "source": [
    "# en aşağı scroll'la, bulsun diye\n",
    "driver.execute_script(\"window.scrollTo(0, document.body.scrollHeight);\")\n",
    "\n",
    "# 3 gün sonrayı bulsun\n",
    "date_containers = driver.find_elements(By.CLASS_NAME, 'panel-heading')\n",
    "sleep(1)\n",
    "target_date_container = None\n",
    "for container in date_containers:\n",
    "    if today_plus_3 in container.text:\n",
    "        target_date_container = container.find_element(By.XPATH, './..')  # Navigate to parent container\n",
    "        break\n",
    "\n",
    "if target_date_container:\n",
    "    # Within this container, find the '22:00 - 23:00' slot\n",
    "    time_slots = target_date_container.find_elements(By.CLASS_NAME, 'lblStyle')\n",
    "    sleep(1)\n",
    "    target_time_slot = None\n",
    "    for slot in time_slots:\n",
    "        if timeslot in slot.text:\n",
    "            target_time_slot = slot.find_element(By.XPATH, './..')  # Navigate to parent container of the slot\n",
    "            break\n",
    "    \n",
    "    if target_time_slot:\n",
    "        print(\"Found the target time slot container.\")\n",
    "        # Now, find and click the 'Rezervasyon' button within this container\n",
    "        sleep(1)\n",
    "        try:\n",
    "            rezervasyon_button = target_time_slot.find_element(By.XPATH, \".//a[contains(text(), 'Rezervasyon')]\")\n",
    "            sleep(.1)\n",
    "            rezervasyon_button.click()\n",
    "            print(\"Clicked the 'Rezervasyon' button.\")\n",
    "        except Exception as e:\n",
    "            print(\"Could not find or click the 'Rezervasyon' button:\", e)\n",
    "    else:\n",
    "        print(f\"Time slot {timeslot}] not found within the date container.\")\n",
    "else:\n",
    "    print(f\"Date {today_plus_3} not found.\")\n",
    "\n",
    "try:\n",
    "    # Switch to the alert\n",
    "    alert = Alert(driver)\n",
    "    alert.accept()  # To accept the alert\n",
    "    # alert.dismiss()  # To dismiss the alert, if it's a confirm dialog\n",
    "except Exception as e:\n",
    "    print(\"No JavaScript alert found:\", e)\n",
    "sleep(3)\n",
    "kortkirala = '''//*[@id=\"rblKiralikTenisSatisTuru\"]/tbody/tr[3]/td/label'''\n",
    "driver.find_element(By.XPATH, kortkirala).click()\n",
    "sleep(1)\n",
    "kiraliksoz = '''//*[@id=\"pageContent_dvSepet\"]/p[2]/span/label'''\n",
    "driver.find_element(By.XPATH, kiraliksoz).click()\n",
    "sleep(1)\n",
    "sepete_ekle = '''//*[@id=\"pageContent_lbtnSepeteEkle\"]'''\n",
    "driver.find_element(By.XPATH, sepete_ekle).click()"
   ]
  },
  {
   "cell_type": "code",
   "execution_count": null,
   "metadata": {},
   "outputs": [],
   "source": []
  }
 ],
 "metadata": {
  "kernelspec": {
   "display_name": "base",
   "language": "python",
   "name": "python3"
  },
  "language_info": {
   "codemirror_mode": {
    "name": "ipython",
    "version": 3
   },
   "file_extension": ".py",
   "mimetype": "text/x-python",
   "name": "python",
   "nbconvert_exporter": "python",
   "pygments_lexer": "ipython3",
   "version": "3.11.5"
  }
 },
 "nbformat": 4,
 "nbformat_minor": 2
}
