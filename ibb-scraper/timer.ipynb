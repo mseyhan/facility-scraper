{
 "cells": [
  {
   "cell_type": "code",
   "execution_count": 1,
   "metadata": {},
   "outputs": [
    {
     "name": "stdout",
     "output_type": "stream",
     "text": [
      "(0, 9, 0)\n",
      "2024-03-07 00:48:25.960852\n",
      "TC: 27754977334\n",
      "Password: mrtsyhn123\n",
      "Link: https://online.spor.istanbul/uyegiris\n",
      "Timeslot: 11:00 - 12:00\n",
      "For date: 08.03.2024\n",
      "siteye girdi.\n",
      "credential'lar girildi.\n",
      "kiralama tıkladı\n",
      "Branş seçildi.\n",
      "tesis secildi\n",
      "login2site.py completed in 0:00:12.296185.\n",
      "now: 2024-03-07 00:48:38.257226\n",
      "run book.py\n",
      "Salon seçildi.\n",
      "Date container found.\n",
      "Time slot 11:00 - 12:00 found.\n",
      "Time slot 11:00 - 12:00 or reservation button not found.\n"
     ]
    }
   ],
   "source": [
    "import datetime\n",
    "import time\n",
    "import runpy\n",
    "import read_config1 as read_config\n",
    "from login2site import run_scraper1  # login2site.py'den fonksiyonu içe aktar\n",
    "from book import run_scraper2  # book.py'den fonksiyonu içe aktar\n",
    "\n",
    "# Example usage\n",
    "config_file_path = 'data/config.json'\n",
    "tc, password, link, timeslot, plus, timer_hms, bransadi, tesisadi, salonadi = read_config.read_config(config_file_path)\n",
    "target_hour, target_minute, target_second = timer_hms #hedef zamanı tnanımla\n",
    "print(timer_hms)\n",
    "\n",
    "driver = run_scraper1()\n",
    "\n",
    "while True:\n",
    "    # Şu anki zamanı al\n",
    "    now = datetime.datetime.now()\n",
    "    print(\"now:\", now)\n",
    "    # Hedef zamana ulaşıp ulaşmadığını kontrol et\n",
    "    if now.hour > target_hour or (now.hour == target_hour and now.minute >= target_minute and now.second >= target_second):\n",
    "        # Fonksiyonu çalıştır\n",
    "        print(\"run book.py\")\n",
    "        run_scraper2(driver)\n",
    "        # Bir sonraki tam saniyeye kadar bekle\n",
    "        break\n",
    "    else:\n",
    "        # Hedef zamana henüz ulaşılmadıysa, bir sonraki tam saniyeye kadar bekle\n",
    "        time.sleep(1 - (time.time() % 1))"
   ]
  },
  {
   "cell_type": "code",
   "execution_count": 36,
   "metadata": {},
   "outputs": [],
   "source": [
    "driver.execute_script(\"window.scrollTo(0, document.body.scrollHeight);\")\n"
   ]
  },
  {
   "cell_type": "code",
   "execution_count": 1,
   "metadata": {},
   "outputs": [
    {
     "ename": "NameError",
     "evalue": "name 'driver' is not defined",
     "output_type": "error",
     "traceback": [
      "\u001b[0;31m---------------------------------------------------------------------------\u001b[0m",
      "\u001b[0;31mNameError\u001b[0m                                 Traceback (most recent call last)",
      "Cell \u001b[0;32mIn[1], line 5\u001b[0m\n\u001b[1;32m      3\u001b[0m \u001b[38;5;28;01mfrom\u001b[39;00m \u001b[38;5;21;01mselenium\u001b[39;00m\u001b[38;5;21;01m.\u001b[39;00m\u001b[38;5;21;01mwebdriver\u001b[39;00m\u001b[38;5;21;01m.\u001b[39;00m\u001b[38;5;21;01msupport\u001b[39;00m \u001b[38;5;28;01mimport\u001b[39;00m expected_conditions \u001b[38;5;28;01mas\u001b[39;00m EC\n\u001b[1;32m      4\u001b[0m today_plus \u001b[38;5;241m=\u001b[39m \u001b[38;5;124m'\u001b[39m\u001b[38;5;124m14.02.2024\u001b[39m\u001b[38;5;124m'\u001b[39m\n\u001b[0;32m----> 5\u001b[0m wait \u001b[38;5;241m=\u001b[39m WebDriverWait(driver, \u001b[38;5;241m10\u001b[39m)\n\u001b[1;32m      6\u001b[0m \u001b[38;5;66;03m# '14.02.2024' tarihini içeren container'ı bul\u001b[39;00m\n\u001b[1;32m      7\u001b[0m date_xpath \u001b[38;5;241m=\u001b[39m \u001b[38;5;124m\"\u001b[39m\u001b[38;5;124m//text()[contains(.,\u001b[39m\u001b[38;5;124m'\u001b[39m\u001b[38;5;124m16.02.2024\u001b[39m\u001b[38;5;124m'\u001b[39m\u001b[38;5;124m)]\u001b[39m\u001b[38;5;124m\"\u001b[39m\n",
      "\u001b[0;31mNameError\u001b[0m: name 'driver' is not defined"
     ]
    }
   ],
   "source": [
    "from selenium.webdriver.common.by import By\n",
    "from selenium.webdriver.support.ui import WebDriverWait\n",
    "from selenium.webdriver.support import expected_conditions as EC\n",
    "today_plus = '14.02.2024'\n",
    "wait = WebDriverWait(driver, 10)\n",
    "# '14.02.2024' tarihini içeren container'ı bul\n",
    "date_xpath = \"//text()[contains(.,'16.02.2024')]\"\n",
    "#target_date_container = wait.until(EC.visibility_of_element_located((By.XPATH, date_xpath + \"/..\")))\n",
    "date_containers = driver.find_elements(By.CLASS_NAME, 'panel-heading')\n",
    "target_date_container = None\n",
    "for container in date_containers:\n",
    "    if today_plus in container.text:\n",
    "        target_date_container = container.find_element(By.XPATH, './..')  # Navigate to parent container\n",
    "        break\n",
    "\n",
    "# Check if the target date container was found\n",
    "if target_date_container:\n",
    "    print(\"Found the target date container.\")\n",
    "    # Find the specific time slot within this container\n",
    "    time_slot_xpath = f\".//*[contains(@class, 'lblStyle') and contains(text(), '19:00 - 20:00')]\"\n",
    "    try:\n",
    "        target_time_slot = target_date_container.find_element(By.XPATH, time_slot_xpath + \"/..\")\n",
    "        print(\"Found the target time slot container.\")\n",
    "        # Click the 'Rezervasyon' button within this slot\n",
    "        rezervasyon_button = target_time_slot.find_element(By.XPATH, \".//a[contains(text(), 'Rezervasyon')]\")\n",
    "        rezervasyon_button.click()\n",
    "        print(\"Clicked the 'Rezervasyon' button.\")\n",
    "    except Exception as e:\n",
    "        print(f\"Could not find or click the 'Rezervasyon' button: {e}\")\n",
    "else:\n",
    "    print(f\"Date '{today_plus}' not found.\")\n",
    "\n",
    "# Handle the alert if it appears\n",
    "try:\n",
    "    WebDriverWait(driver, 5).until(EC.alert_is_present())\n",
    "    alert = driver.switch_to.alert\n",
    "    alert.accept()\n",
    "    print(\"Alert found and accepted.\")\n",
    "except Exception as e:\n",
    "    print(f\"No JavaScript alert found: {e}\")"
   ]
  },
  {
   "cell_type": "code",
   "execution_count": 21,
   "metadata": {},
   "outputs": [
    {
     "ename": "NoSuchElementException",
     "evalue": "Message: no such element: Unable to locate element: {\"method\":\"xpath\",\"selector\":\".//a[contains(text(), 'Rezervasyon')]\"}\n  (Session info: chrome=121.0.6167.160); For documentation on this error, please visit: https://www.selenium.dev/documentation/webdriver/troubleshooting/errors#no-such-element-exception\nStacktrace:\n0   undetected_chromedriver             0x0000000100d60168 undetected_chromedriver + 4673896\n1   undetected_chromedriver             0x0000000100d579c3 undetected_chromedriver + 4639171\n2   undetected_chromedriver             0x000000010094bfdd undetected_chromedriver + 397277\n3   undetected_chromedriver             0x0000000100997bfc undetected_chromedriver + 707580\n4   undetected_chromedriver             0x0000000100997dd1 undetected_chromedriver + 708049\n5   undetected_chromedriver             0x000000010098c156 undetected_chromedriver + 659798\n6   undetected_chromedriver             0x00000001009ba8ed undetected_chromedriver + 850157\n7   undetected_chromedriver             0x000000010098c038 undetected_chromedriver + 659512\n8   undetected_chromedriver             0x00000001009baa7e undetected_chromedriver + 850558\n9   undetected_chromedriver             0x00000001009d9796 undetected_chromedriver + 976790\n10  undetected_chromedriver             0x00000001009ba663 undetected_chromedriver + 849507\n11  undetected_chromedriver             0x000000010098a1cf undetected_chromedriver + 651727\n12  undetected_chromedriver             0x000000010098b1ae undetected_chromedriver + 655790\n13  undetected_chromedriver             0x0000000100d20380 undetected_chromedriver + 4412288\n14  undetected_chromedriver             0x0000000100d25798 undetected_chromedriver + 4433816\n15  undetected_chromedriver             0x0000000100d04d71 undetected_chromedriver + 4300145\n16  undetected_chromedriver             0x0000000100d264e6 undetected_chromedriver + 4437222\n17  undetected_chromedriver             0x0000000100cf6d3c undetected_chromedriver + 4242748\n18  undetected_chromedriver             0x0000000100d46208 undetected_chromedriver + 4567560\n19  undetected_chromedriver             0x0000000100d463be undetected_chromedriver + 4567998\n20  undetected_chromedriver             0x0000000100d57603 undetected_chromedriver + 4638211\n21  libsystem_pthread.dylib             0x00007ff800a03202 _pthread_start + 99\n22  libsystem_pthread.dylib             0x00007ff8009febab thread_start + 15\n",
     "output_type": "error",
     "traceback": [
      "\u001b[0;31m---------------------------------------------------------------------------\u001b[0m",
      "\u001b[0;31mNoSuchElementException\u001b[0m                    Traceback (most recent call last)",
      "Cell \u001b[0;32mIn[21], line 6\u001b[0m\n\u001b[1;32m      3\u001b[0m target_time_slot \u001b[38;5;241m=\u001b[39m target_date_container\u001b[38;5;241m.\u001b[39mfind_element(By\u001b[38;5;241m.\u001b[39mXPATH, time_slot_xpath \u001b[38;5;241m+\u001b[39m \u001b[38;5;124m\"\u001b[39m\u001b[38;5;124m/..\u001b[39m\u001b[38;5;124m\"\u001b[39m)\n\u001b[1;32m      5\u001b[0m \u001b[38;5;66;03m# 'Rezervasyon' metnini içeren ilk <a> etiketini bul\u001b[39;00m\n\u001b[0;32m----> 6\u001b[0m rezervasyon_button \u001b[38;5;241m=\u001b[39m target_time_slot\u001b[38;5;241m.\u001b[39mfind_element(By\u001b[38;5;241m.\u001b[39mXPATH, \u001b[38;5;124m\"\u001b[39m\u001b[38;5;124m.//a[contains(text(), \u001b[39m\u001b[38;5;124m'\u001b[39m\u001b[38;5;124mRezervasyon\u001b[39m\u001b[38;5;124m'\u001b[39m\u001b[38;5;124m)]\u001b[39m\u001b[38;5;124m\"\u001b[39m)\n\u001b[1;32m      7\u001b[0m rezervasyon_button\u001b[38;5;241m.\u001b[39mclick()\n\u001b[1;32m      8\u001b[0m \u001b[38;5;28mprint\u001b[39m(\u001b[38;5;124m\"\u001b[39m\u001b[38;5;124mClicked the \u001b[39m\u001b[38;5;124m'\u001b[39m\u001b[38;5;124mRezervasyon\u001b[39m\u001b[38;5;124m'\u001b[39m\u001b[38;5;124m button.\u001b[39m\u001b[38;5;124m\"\u001b[39m)\n",
      "File \u001b[0;32m~/anaconda3/lib/python3.11/site-packages/selenium/webdriver/remote/webelement.py:417\u001b[0m, in \u001b[0;36mWebElement.find_element\u001b[0;34m(self, by, value)\u001b[0m\n\u001b[1;32m    414\u001b[0m     by \u001b[38;5;241m=\u001b[39m By\u001b[38;5;241m.\u001b[39mCSS_SELECTOR\n\u001b[1;32m    415\u001b[0m     value \u001b[38;5;241m=\u001b[39m \u001b[38;5;124mf\u001b[39m\u001b[38;5;124m'\u001b[39m\u001b[38;5;124m[name=\u001b[39m\u001b[38;5;124m\"\u001b[39m\u001b[38;5;132;01m{\u001b[39;00mvalue\u001b[38;5;132;01m}\u001b[39;00m\u001b[38;5;124m\"\u001b[39m\u001b[38;5;124m]\u001b[39m\u001b[38;5;124m'\u001b[39m\n\u001b[0;32m--> 417\u001b[0m \u001b[38;5;28;01mreturn\u001b[39;00m \u001b[38;5;28mself\u001b[39m\u001b[38;5;241m.\u001b[39m_execute(Command\u001b[38;5;241m.\u001b[39mFIND_CHILD_ELEMENT, {\u001b[38;5;124m\"\u001b[39m\u001b[38;5;124musing\u001b[39m\u001b[38;5;124m\"\u001b[39m: by, \u001b[38;5;124m\"\u001b[39m\u001b[38;5;124mvalue\u001b[39m\u001b[38;5;124m\"\u001b[39m: value})[\u001b[38;5;124m\"\u001b[39m\u001b[38;5;124mvalue\u001b[39m\u001b[38;5;124m\"\u001b[39m]\n",
      "File \u001b[0;32m~/anaconda3/lib/python3.11/site-packages/selenium/webdriver/remote/webelement.py:395\u001b[0m, in \u001b[0;36mWebElement._execute\u001b[0;34m(self, command, params)\u001b[0m\n\u001b[1;32m    393\u001b[0m     params \u001b[38;5;241m=\u001b[39m {}\n\u001b[1;32m    394\u001b[0m params[\u001b[38;5;124m\"\u001b[39m\u001b[38;5;124mid\u001b[39m\u001b[38;5;124m\"\u001b[39m] \u001b[38;5;241m=\u001b[39m \u001b[38;5;28mself\u001b[39m\u001b[38;5;241m.\u001b[39m_id\n\u001b[0;32m--> 395\u001b[0m \u001b[38;5;28;01mreturn\u001b[39;00m \u001b[38;5;28mself\u001b[39m\u001b[38;5;241m.\u001b[39m_parent\u001b[38;5;241m.\u001b[39mexecute(command, params)\n",
      "File \u001b[0;32m~/anaconda3/lib/python3.11/site-packages/selenium/webdriver/remote/webdriver.py:347\u001b[0m, in \u001b[0;36mWebDriver.execute\u001b[0;34m(self, driver_command, params)\u001b[0m\n\u001b[1;32m    345\u001b[0m response \u001b[38;5;241m=\u001b[39m \u001b[38;5;28mself\u001b[39m\u001b[38;5;241m.\u001b[39mcommand_executor\u001b[38;5;241m.\u001b[39mexecute(driver_command, params)\n\u001b[1;32m    346\u001b[0m \u001b[38;5;28;01mif\u001b[39;00m response:\n\u001b[0;32m--> 347\u001b[0m     \u001b[38;5;28mself\u001b[39m\u001b[38;5;241m.\u001b[39merror_handler\u001b[38;5;241m.\u001b[39mcheck_response(response)\n\u001b[1;32m    348\u001b[0m     response[\u001b[38;5;124m\"\u001b[39m\u001b[38;5;124mvalue\u001b[39m\u001b[38;5;124m\"\u001b[39m] \u001b[38;5;241m=\u001b[39m \u001b[38;5;28mself\u001b[39m\u001b[38;5;241m.\u001b[39m_unwrap_value(response\u001b[38;5;241m.\u001b[39mget(\u001b[38;5;124m\"\u001b[39m\u001b[38;5;124mvalue\u001b[39m\u001b[38;5;124m\"\u001b[39m, \u001b[38;5;28;01mNone\u001b[39;00m))\n\u001b[1;32m    349\u001b[0m     \u001b[38;5;28;01mreturn\u001b[39;00m response\n",
      "File \u001b[0;32m~/anaconda3/lib/python3.11/site-packages/selenium/webdriver/remote/errorhandler.py:229\u001b[0m, in \u001b[0;36mErrorHandler.check_response\u001b[0;34m(self, response)\u001b[0m\n\u001b[1;32m    227\u001b[0m         alert_text \u001b[38;5;241m=\u001b[39m value[\u001b[38;5;124m\"\u001b[39m\u001b[38;5;124malert\u001b[39m\u001b[38;5;124m\"\u001b[39m]\u001b[38;5;241m.\u001b[39mget(\u001b[38;5;124m\"\u001b[39m\u001b[38;5;124mtext\u001b[39m\u001b[38;5;124m\"\u001b[39m)\n\u001b[1;32m    228\u001b[0m     \u001b[38;5;28;01mraise\u001b[39;00m exception_class(message, screen, stacktrace, alert_text)  \u001b[38;5;66;03m# type: ignore[call-arg]  # mypy is not smart enough here\u001b[39;00m\n\u001b[0;32m--> 229\u001b[0m \u001b[38;5;28;01mraise\u001b[39;00m exception_class(message, screen, stacktrace)\n",
      "\u001b[0;31mNoSuchElementException\u001b[0m: Message: no such element: Unable to locate element: {\"method\":\"xpath\",\"selector\":\".//a[contains(text(), 'Rezervasyon')]\"}\n  (Session info: chrome=121.0.6167.160); For documentation on this error, please visit: https://www.selenium.dev/documentation/webdriver/troubleshooting/errors#no-such-element-exception\nStacktrace:\n0   undetected_chromedriver             0x0000000100d60168 undetected_chromedriver + 4673896\n1   undetected_chromedriver             0x0000000100d579c3 undetected_chromedriver + 4639171\n2   undetected_chromedriver             0x000000010094bfdd undetected_chromedriver + 397277\n3   undetected_chromedriver             0x0000000100997bfc undetected_chromedriver + 707580\n4   undetected_chromedriver             0x0000000100997dd1 undetected_chromedriver + 708049\n5   undetected_chromedriver             0x000000010098c156 undetected_chromedriver + 659798\n6   undetected_chromedriver             0x00000001009ba8ed undetected_chromedriver + 850157\n7   undetected_chromedriver             0x000000010098c038 undetected_chromedriver + 659512\n8   undetected_chromedriver             0x00000001009baa7e undetected_chromedriver + 850558\n9   undetected_chromedriver             0x00000001009d9796 undetected_chromedriver + 976790\n10  undetected_chromedriver             0x00000001009ba663 undetected_chromedriver + 849507\n11  undetected_chromedriver             0x000000010098a1cf undetected_chromedriver + 651727\n12  undetected_chromedriver             0x000000010098b1ae undetected_chromedriver + 655790\n13  undetected_chromedriver             0x0000000100d20380 undetected_chromedriver + 4412288\n14  undetected_chromedriver             0x0000000100d25798 undetected_chromedriver + 4433816\n15  undetected_chromedriver             0x0000000100d04d71 undetected_chromedriver + 4300145\n16  undetected_chromedriver             0x0000000100d264e6 undetected_chromedriver + 4437222\n17  undetected_chromedriver             0x0000000100cf6d3c undetected_chromedriver + 4242748\n18  undetected_chromedriver             0x0000000100d46208 undetected_chromedriver + 4567560\n19  undetected_chromedriver             0x0000000100d463be undetected_chromedriver + 4567998\n20  undetected_chromedriver             0x0000000100d57603 undetected_chromedriver + 4638211\n21  libsystem_pthread.dylib             0x00007ff800a03202 _pthread_start + 99\n22  libsystem_pthread.dylib             0x00007ff8009febab thread_start + 15\n"
     ]
    }
   ],
   "source": [
    "# Find and click the time slot\n",
    "time_slot_xpath = f\".//*[contains(@class, 'lblStyle') and contains(text(), '{timeslot}')]\"\n",
    "target_time_slot = target_date_container.find_element(By.XPATH, time_slot_xpath + \"/..\")\n",
    "\n",
    "# 'Rezervasyon' metnini içeren ilk <a> etiketini bul\n",
    "rezervasyon_button = target_time_slot.find_element(By.XPATH, \".//a[contains(text(), 'Rezervasyon')]\")\n",
    "rezervasyon_button.click()\n",
    "print(\"Clicked the 'Rezervasyon' button.\")\n"
   ]
  },
  {
   "cell_type": "code",
   "execution_count": 18,
   "metadata": {},
   "outputs": [
    {
     "data": {
      "text/plain": [
       "<undetected_chromedriver.webelement.WebElement (session=\"efb4a68e2e5955600bd3d9d46dc7c792\", element=\"B851869534839D21B91DC698FC96C464_element_101\")>"
      ]
     },
     "execution_count": 18,
     "metadata": {},
     "output_type": "execute_result"
    }
   ],
   "source": [
    "target_date_container"
   ]
  },
  {
   "cell_type": "code",
   "execution_count": 2,
   "metadata": {},
   "outputs": [],
   "source": [
    "driver.refresh()"
   ]
  },
  {
   "cell_type": "code",
   "execution_count": 4,
   "metadata": {},
   "outputs": [
    {
     "ename": "AttributeError",
     "evalue": "type object 'datetime.datetime' has no attribute 'datetime'",
     "output_type": "error",
     "traceback": [
      "\u001b[0;31m---------------------------------------------------------------------------\u001b[0m",
      "\u001b[0;31mAttributeError\u001b[0m                            Traceback (most recent call last)",
      "Cell \u001b[0;32mIn[4], line 6\u001b[0m\n\u001b[1;32m      3\u001b[0m     \u001b[38;5;28mprint\u001b[39m(datetime\u001b[38;5;241m.\u001b[39mdatetime\u001b[38;5;241m.\u001b[39mnow(), \u001b[38;5;124m\"\u001b[39m\u001b[38;5;124mslot rezervasyonu yapılıyor...\u001b[39m\u001b[38;5;124m\"\u001b[39m)\n\u001b[1;32m      4\u001b[0m     get_ipython()\u001b[38;5;241m.\u001b[39mrun_line_magic(\u001b[38;5;124m'\u001b[39m\u001b[38;5;124mrun\u001b[39m\u001b[38;5;124m'\u001b[39m, \u001b[38;5;124m'\u001b[39m\u001b[38;5;124mbook.py\u001b[39m\u001b[38;5;124m'\u001b[39m)\n\u001b[0;32m----> 6\u001b[0m booking()\n",
      "Cell \u001b[0;32mIn[4], line 3\u001b[0m, in \u001b[0;36mbooking\u001b[0;34m()\u001b[0m\n\u001b[1;32m      1\u001b[0m \u001b[38;5;28;01mdef\u001b[39;00m \u001b[38;5;21mbooking\u001b[39m():\n\u001b[1;32m      2\u001b[0m     \u001b[38;5;66;03m# İşlemi buraya yazın\u001b[39;00m\n\u001b[0;32m----> 3\u001b[0m     \u001b[38;5;28mprint\u001b[39m(datetime\u001b[38;5;241m.\u001b[39mdatetime\u001b[38;5;241m.\u001b[39mnow(), \u001b[38;5;124m\"\u001b[39m\u001b[38;5;124mslot rezervasyonu yapılıyor...\u001b[39m\u001b[38;5;124m\"\u001b[39m)\n\u001b[1;32m      4\u001b[0m     get_ipython()\u001b[38;5;241m.\u001b[39mrun_line_magic(\u001b[38;5;124m'\u001b[39m\u001b[38;5;124mrun\u001b[39m\u001b[38;5;124m'\u001b[39m, \u001b[38;5;124m'\u001b[39m\u001b[38;5;124mbook.py\u001b[39m\u001b[38;5;124m'\u001b[39m)\n",
      "\u001b[0;31mAttributeError\u001b[0m: type object 'datetime.datetime' has no attribute 'datetime'"
     ]
    }
   ],
   "source": [
    "def booking():\n",
    "    # İşlemi buraya yazın\n",
    "    print(datetime.datetime.now(), \"slot rezervasyonu yapılıyor...\")\n",
    "    %run book.py\n",
    "\n",
    "booking()"
   ]
  },
  {
   "cell_type": "code",
   "execution_count": 11,
   "metadata": {},
   "outputs": [
    {
     "ename": "NameError",
     "evalue": "name 'WebDriverWait' is not defined",
     "output_type": "error",
     "traceback": [
      "\u001b[0;31m---------------------------------------------------------------------------\u001b[0m",
      "\u001b[0;31mNameError\u001b[0m                                 Traceback (most recent call last)",
      "Cell \u001b[0;32mIn[11], line 1\u001b[0m\n\u001b[0;32m----> 1\u001b[0m elem \u001b[38;5;241m=\u001b[39m WebDriverWait(driver, \u001b[38;5;241m10\u001b[39m)\u001b[38;5;241m.\u001b[39muntil(EC\u001b[38;5;241m.\u001b[39mpresence_of_element_located((By\u001b[38;5;241m.\u001b[39mXPATH, \u001b[38;5;124m'\u001b[39m\u001b[38;5;124m//*[@id=\u001b[39m\u001b[38;5;124m\"\u001b[39m\u001b[38;5;124mbasic\u001b[39m\u001b[38;5;124m\"\u001b[39m\u001b[38;5;124m]/div\u001b[39m\u001b[38;5;124m'\u001b[39m)))\n",
      "\u001b[0;31mNameError\u001b[0m: name 'WebDriverWait' is not defined"
     ]
    }
   ],
   "source": [
    "elem = WebDriverWait(driver, 10).until(EC.presence_of_element_located((By.XPATH, '//*[@id=\"basic\"]/div')))\n"
   ]
  },
  {
   "cell_type": "code",
   "execution_count": 4,
   "metadata": {},
   "outputs": [],
   "source": [
    "# SCRAPER2.PY\n",
    "\n",
    "from selenium.webdriver.common.by import By\n",
    "from selenium.webdriver.support.ui import WebDriverWait\n",
    "from selenium.webdriver.support import expected_conditions as EC\n",
    "from selenium.webdriver.support.ui import Select\n",
    "from selenium.webdriver.common.alert import Alert\n",
    "from selenium.common.exceptions import NoAlertPresentException\n",
    "from selenium.common.exceptions import TimeoutException, NoSuchElementException, UnexpectedAlertPresentException\n",
    "from datetime import datetime, timedelta\n",
    "import read_config1 as read_config\n",
    "from time import sleep\n",
    "\n",
    "# Assuming read_config.py is correctly set up to return configuration values\n",
    "config_file_path = 'data/config.json'\n",
    "tc, password, link, timeslot, plus, timer_hms, bransadi, tesisadi, salonadi = read_config.read_config(config_file_path)\n",
    "\n",
    "def check_exists_by_xpath(driver,xpath):\n",
    "    try:\n",
    "        driver.find_element_by_xpath(xpath)\n",
    "    except NoSuchElementException:\n",
    "        return False\n",
    "    return True\n",
    "\n",
    "# Function to select options and navigate in the web application\n",
    "def continue_scraping(driver):\n",
    "    start = datetime.now()\n",
    "    #print(start)\n",
    "    today_plus = datetime.today() + timedelta(days=plus)\n",
    "    today_plus_str = today_plus.strftime(\"%d.%m.%Y\")\n",
    "    #print(f\"Looking for date: {today_plus_str}\")\n",
    "    wait = WebDriverWait(driver, 10)\n",
    "    wait.until(\n",
    "        EC.visibility_of_element_located((\n",
    "            By.XPATH, f\"//option[contains(text(), '{salonadi}')]\")))\n",
    "    salon_dropdown = wait.until(\n",
    "        EC.element_to_be_clickable((By.ID, \"ddlSalonFiltre\")))\n",
    "    Select(salon_dropdown).select_by_visible_text(salonadi)\n",
    "    print(\"Salon seçildi.\")\n",
    "    #sleep(.3)\n",
    "    # en aşağı scroll'la, bulsun diye\n",
    "    #driver.execute_script(\"window.scrollTo(0, document.body.scrollHeight);\")\n",
    "    # 3 gün sonrayı bulsun\n",
    "    date_containers = wait.until(EC.presence_of_all_elements_located((By.CLASS_NAME, 'panel-heading')))\n",
    "    #print()\n",
    "    print('date_container bulundu, uzunluğu:', len(date_containers))\n",
    "    #sleep(.1)\n",
    "    target_date_container = None\n",
    "    for container in date_containers:\n",
    "        print(\"today plus:\",today_plus_str)\n",
    "        print(\"containerınkendisi:\",container.text)\n",
    "        if today_plus_str in container.text:\n",
    "            target_date_container = container.find_element(By.XPATH, './..')  # Navigate to parent container\n",
    "            break\n",
    "    print(\"parent'a gidildi\")\n",
    "\n",
    "\n",
    "\n",
    "    if target_date_container:\n",
    "        sleep(.2)\n",
    "        driver.execute_script(\"window.scrollTo(0, document.body.scrollHeight);\")\n",
    "        # Within this container, find the specified time slot\n",
    "        time_slots = wait.until(EC.presence_of_all_elements_located((By.CLASS_NAME, 'lblStyle')))\n",
    "        print(timeslot, \"timeslot'a bakılıyor.\")\n",
    "        for slot_element in time_slots:\n",
    "            slot_text = slot_element.text.strip()  # strip() removes any extra whitespace\n",
    "            if timeslot == slot_text:\n",
    "                print(\"Found the slot:\", slot_text)\n",
    "                rezButtonXpath = \".//a[contains(text(), 'Rezervasyon') and contains(@class, 'btn-danger')]\"\n",
    "                # Navigate to parent container of the slot, which should also contain the reservation button\n",
    "                target_time_slot_container = slot_element.find_element(By.XPATH, './ancestor::div[contains(@class, \"well\")]')#.find_element(By.XPATH,rezButtonXpath)\n",
    "                print(\"target time slot container:\",target_time_slot_container.get_attribute('innerHTML'))\n",
    "\n",
    "                # Find the 'Rezervasyon' button for this time slot\n",
    "                \n",
    "                #rezervasyon_button = target_time_slot_container.find_element(By.XPATH, \".//a[contains(text(), 'Rezervasyon') and contains(@class, 'btn-danger')]\")\n",
    "\n",
    "                #sleep(3)\n",
    "                element = WebDriverWait(target_time_slot_container, 10).until(\n",
    "                    EC.element_to_be_clickable(\n",
    "                        (By.XPATH, rezButtonXpath)))\n",
    "                try:\n",
    "                    # Attempt to click the reservation button\n",
    "                    #element.click()\n",
    "                    print(\"Rezervasyon button clicked.\")\n",
    "                    break\n",
    "                    # Wait for the alert to be present and then accept it\n",
    "                    WebDriverWait(driver, 10).until(EC.alert_is_present())\n",
    "                    alert = driver.switch_to.alert\n",
    "                    alert_text = alert.text\n",
    "                    print(f\"Alert found with text: {alert_text}\")\n",
    "                    alert.accept()\n",
    "                    print(\"Alert accepted\")\n",
    "                except TimeoutException:\n",
    "                    print(\"No alert appeared after clicking the reservation button.\")\n",
    "                except UnexpectedAlertPresentException as e:\n",
    "                    # Handle the unexpected alert\n",
    "                    alert = driver.switch_to.alert\n",
    "                    alert.accept()\n",
    "                    print(f\"Unexpected alert handled: {e.alert_text}\")\n",
    "\n",
    "                break\n",
    "        else:\n",
    "\n",
    "            print(f\"Time slot {timeslot} not found.\")\n",
    "    else:\n",
    "        print(f\"Date {today_plus_str} not found.\")\n",
    "\n",
    "\n",
    "\n",
    "\n",
    "    #print(\"skrollandı baby.\")\n",
    "    #print(\"tıklamalara geçiliyor\")\n",
    "    sleep(.2)\n",
    "    try:\n",
    "        kortkirala = '''//*[@id=\"rblKiralikTenisSatisTuru\"]/tbody/tr[3]/td/label'''\n",
    "        wait.until(EC.element_to_be_clickable((By.XPATH, kortkirala))).click()\n",
    "        print(\"kort kiralama seçildi\")\n",
    "        #sleep(.3)\n",
    "        kiraliksoz = '''//*[@id=\"pageContent_dvSepet\"]/p[2]/span/label'''\n",
    "        wait.until(EC.element_to_be_clickable((By.XPATH, kiraliksoz))).click()\n",
    "        print(\"sözleşme kabul edildi\")\n",
    "        #sleep(.3)\n",
    "        sepete_ekle = '''//*[@id=\"pageContent_lbtnSepeteEkle\"]'''\n",
    "        wait.until(EC.element_to_be_clickable((By.XPATH, sepete_ekle))).click()\n",
    "        print(\"sepete eklendi.\")\n",
    "    except Exception as e:\n",
    "        print(\"Bir elementin görünür olmasını beklerken zaman aşımına uğradı.\",e)\n",
    "\n",
    "    print(\"cycle done.\")\n",
    "    # Calculate and print the duration\n",
    "    end = datetime.now()\n",
    "    duration = end - start\n",
    "    print(f\"book.py completed in {duration}.\")\n",
    "\n",
    "# This function would be called from the notebook or another script, passing the driver from SCRAPER1\n",
    "def run_scraper2(driver):\n",
    "    continue_scraping(driver)\n",
    "\n",
    "# If you need to test SCRAPER2 directly, you might temporarily include code to initialize the driver here\n",
    "# and then call run_scraper2(driver). Remember to remove or comment out this test code when integrating with SCRAPER1.\n"
   ]
  },
  {
   "cell_type": "code",
   "execution_count": 5,
   "metadata": {},
   "outputs": [
    {
     "name": "stdout",
     "output_type": "stream",
     "text": [
      "Salon seçildi.\n",
      "date_container bulundu, uzunluğu: 9\n",
      "today plus: 06.03.2024\n",
      "containerınkendisi: Seans Listesi\n",
      "Kiralık Seans İfade Örneği: Sepet Rezervasyon\n",
      "today plus: 06.03.2024\n",
      "containerınkendisi: Pazartesi\n",
      "04.03.2024\n",
      "today plus: 06.03.2024\n",
      "containerınkendisi: Salı\n",
      "05.03.2024\n",
      "today plus: 06.03.2024\n",
      "containerınkendisi: Çarşamba\n",
      "06.03.2024\n",
      "parent'a gidildi\n",
      "11:00 - 12:00 timeslot'a bakılıyor.\n",
      "Found the slot: 11:00 - 12:00\n",
      "target time slot container: \n",
      "                                                                            <div id=\"pageContent_rptList_rpChild_1_dvCheckbox_4\"></div>\n",
      "                                                                            <span id=\"pageContent_rptList_rpChild_1_lblSeans_4\" class=\"lblStyle\">11:00 - 12:00</span>\n",
      "                                                                            <br>\n",
      "                                                                            \n",
      "                                                                            \n",
      "                                                                            <a onclick=\"return alert('Rezervasyon İşlemi Gerçekleştiriyorsunuz. Bilginize.');\" id=\"pageContent_rptList_rpChild_1_lbRezervasyon_4\" title=\"Rezervasyon\" class=\"btn btn-sm btn-danger\" href=\"javascript:__doPostBack('ctl00$pageContent$rptList$ctl01$rpChild$ctl04$lbRezervasyon','')\" style=\"font-weight:bold;\">Rezervasyon</a>\n",
      "                                                                            <a onclick=\"return alert('Abonelik Başlatma İşlemi Gerçekleştiriyorsunuz. Bilginize.');\" id=\"pageContent_rptList_rpChild_1_lbAbonelikBaslatma_4\" title=\"Abonelik Başlatma\" class=\"btn btn-sm btn-primary\" href=\"javascript:__doPostBack('ctl00$pageContent$rptList$ctl01$rpChild$ctl04$lbAbonelikBaslatma','')\" style=\"font-weight:bold;display: none;\">Abonelik</a>\n",
      "                                                                            \n",
      "                                                                        \n",
      "Rezervasyon button clicked.\n",
      "Bir elementin görünür olmasını beklerken zaman aşımına uğradı. Message: \n",
      "Stacktrace:\n",
      "0   undetected_chromedriver             0x0000000104d8d2f8 undetected_chromedriver + 4625144\n",
      "1   undetected_chromedriver             0x0000000104d84ea3 undetected_chromedriver + 4591267\n",
      "2   undetected_chromedriver             0x0000000104983e6a undetected_chromedriver + 392810\n",
      "3   undetected_chromedriver             0x00000001049cf41d undetected_chromedriver + 701469\n",
      "4   undetected_chromedriver             0x00000001049cf5b1 undetected_chromedriver + 701873\n",
      "5   undetected_chromedriver             0x0000000104a131c4 undetected_chromedriver + 979396\n",
      "6   undetected_chromedriver             0x00000001049f189d undetected_chromedriver + 841885\n",
      "7   undetected_chromedriver             0x0000000104a1068f undetected_chromedriver + 968335\n",
      "8   undetected_chromedriver             0x00000001049f1613 undetected_chromedriver + 841235\n",
      "9   undetected_chromedriver             0x00000001049c23da undetected_chromedriver + 648154\n",
      "10  undetected_chromedriver             0x00000001049c2d1e undetected_chromedriver + 650526\n",
      "11  undetected_chromedriver             0x0000000104d4dac0 undetected_chromedriver + 4364992\n",
      "12  undetected_chromedriver             0x0000000104d52e86 undetected_chromedriver + 4386438\n",
      "13  undetected_chromedriver             0x0000000104d3272e undetected_chromedriver + 4253486\n",
      "14  undetected_chromedriver             0x0000000104d53bc9 undetected_chromedriver + 4389833\n",
      "15  undetected_chromedriver             0x0000000104d24a79 undetected_chromedriver + 4196985\n",
      "16  undetected_chromedriver             0x0000000104d73b78 undetected_chromedriver + 4520824\n",
      "17  undetected_chromedriver             0x0000000104d73d57 undetected_chromedriver + 4521303\n",
      "18  undetected_chromedriver             0x0000000104d84ae3 undetected_chromedriver + 4590307\n",
      "19  libsystem_pthread.dylib             0x00007ff815457202 _pthread_start + 99\n",
      "20  libsystem_pthread.dylib             0x00007ff815452bab thread_start + 15\n",
      "\n",
      "cycle done.\n",
      "book.py completed in 0:00:10.875611.\n"
     ]
    }
   ],
   "source": []
  },
  {
   "cell_type": "code",
   "execution_count": 6,
   "metadata": {},
   "outputs": [],
   "source": [
    "driver.refresh()"
   ]
  },
  {
   "cell_type": "code",
   "execution_count": 9,
   "metadata": {},
   "outputs": [],
   "source": [
    "driver.find_element(By.XPATH, '//*[@id=\"pageContent_rptList_rpChild_1_lbRezervasyon_4\"]').click()"
   ]
  },
  {
   "cell_type": "code",
   "execution_count": null,
   "metadata": {},
   "outputs": [],
   "source": []
  }
 ],
 "metadata": {
  "kernelspec": {
   "display_name": "base",
   "language": "python",
   "name": "python3"
  },
  "language_info": {
   "codemirror_mode": {
    "name": "ipython",
    "version": 3
   },
   "file_extension": ".py",
   "mimetype": "text/x-python",
   "name": "python",
   "nbconvert_exporter": "python",
   "pygments_lexer": "ipython3",
   "version": "3.11.5"
  }
 },
 "nbformat": 4,
 "nbformat_minor": 2
}
